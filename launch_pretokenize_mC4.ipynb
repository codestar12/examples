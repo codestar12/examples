{
 "cells": [
  {
   "cell_type": "code",
   "execution_count": 1,
   "metadata": {},
   "outputs": [],
   "source": [
    "from mcli.sdk import *"
   ]
  },
  {
   "cell_type": "code",
   "execution_count": 2,
   "metadata": {},
   "outputs": [],
   "source": [
    "base_config = RunConfig.from_file('pretokenize_mC4.yaml')"
   ]
  },
  {
   "cell_type": "code",
   "execution_count": 3,
   "metadata": {},
   "outputs": [
    {
     "data": {
      "text/plain": [
       "RunConfig(run_name='test_mC4', name='test_mC4', gpu_type=None, gpu_num=8, cpus=None, platform=None, cluster='r12z1', image='mosaicml/pytorch:1.13.1_cu117-python3.10-ubuntu20.04', partitions=None, optimization_level=0, integrations=[{'integration_type': 'git_repo', 'git_repo': 'codestar12/examples', 'git_branch': 'streaming_concat', 'pip_install': '-e .[llm]'}], env_variables=[], scheduling={'priority': None}, command=\"cd examples/examples/\\npython common/pretokenize_streaming_dataset.py --out_root oci://mosaicml-internal-dataset-mc4/mds/pretokenized/en/ \\\\\\n--local /tmp/mds-cache/ --remote oci://mosaicml-internal-dataset-mc4/mds/en/ \\\\\\n--concat_tokens 2048 --tokenizer gpt2 --eos_text '<|endoftext|>'\\n\", parameters={}, entrypoint='')"
      ]
     },
     "execution_count": 3,
     "metadata": {},
     "output_type": "execute_result"
    }
   ],
   "source": [
    "base_config"
   ]
  },
  {
   "cell_type": "code",
   "execution_count": 4,
   "metadata": {},
   "outputs": [
    {
     "name": "stderr",
     "output_type": "stream",
     "text": [
      "Invalid run name \"mC4-test-0\": Run names must be less than 56 characters and contain only lower-case letters, numbers, or \"-\". Converting to a valid name: mc4-test-0\n",
      "Invalid run name \"mC4-test-1\": Run names must be less than 56 characters and contain only lower-case letters, numbers, or \"-\". Converting to a valid name: mc4-test-1\n",
      "Invalid run name \"mC4-test-2\": Run names must be less than 56 characters and contain only lower-case letters, numbers, or \"-\". Converting to a valid name: mc4-test-2\n",
      "Invalid run name \"mC4-test-3\": Run names must be less than 56 characters and contain only lower-case letters, numbers, or \"-\". Converting to a valid name: mc4-test-3\n",
      "Invalid run name \"mC4-test-4\": Run names must be less than 56 characters and contain only lower-case letters, numbers, or \"-\". Converting to a valid name: mc4-test-4\n",
      "Invalid run name \"mC4-test-5\": Run names must be less than 56 characters and contain only lower-case letters, numbers, or \"-\". Converting to a valid name: mc4-test-5\n",
      "Invalid run name \"mC4-test-6\": Run names must be less than 56 characters and contain only lower-case letters, numbers, or \"-\". Converting to a valid name: mc4-test-6\n",
      "Invalid run name \"mC4-test-7\": Run names must be less than 56 characters and contain only lower-case letters, numbers, or \"-\". Converting to a valid name: mc4-test-7\n",
      "Invalid run name \"mC4-test-8\": Run names must be less than 56 characters and contain only lower-case letters, numbers, or \"-\". Converting to a valid name: mc4-test-8\n",
      "Invalid run name \"mC4-test-9\": Run names must be less than 56 characters and contain only lower-case letters, numbers, or \"-\". Converting to a valid name: mc4-test-9\n",
      "Invalid run name \"mC4-test-10\": Run names must be less than 56 characters and contain only lower-case letters, numbers, or \"-\". Converting to a valid name: mc4-test-10\n",
      "Invalid run name \"mC4-test-11\": Run names must be less than 56 characters and contain only lower-case letters, numbers, or \"-\". Converting to a valid name: mc4-test-11\n",
      "Invalid run name \"mC4-test-12\": Run names must be less than 56 characters and contain only lower-case letters, numbers, or \"-\". Converting to a valid name: mc4-test-12\n",
      "Invalid run name \"mC4-test-13\": Run names must be less than 56 characters and contain only lower-case letters, numbers, or \"-\". Converting to a valid name: mc4-test-13\n",
      "Invalid run name \"mC4-test-14\": Run names must be less than 56 characters and contain only lower-case letters, numbers, or \"-\". Converting to a valid name: mc4-test-14\n",
      "Invalid run name \"mC4-test-16\": Run names must be less than 56 characters and contain only lower-case letters, numbers, or \"-\". Converting to a valid name: mc4-test-16\n",
      "Invalid run name \"mC4-test-17\": Run names must be less than 56 characters and contain only lower-case letters, numbers, or \"-\". Converting to a valid name: mc4-test-17\n",
      "Invalid run name \"mC4-test-18\": Run names must be less than 56 characters and contain only lower-case letters, numbers, or \"-\". Converting to a valid name: mc4-test-18\n",
      "Invalid run name \"mC4-test-19\": Run names must be less than 56 characters and contain only lower-case letters, numbers, or \"-\". Converting to a valid name: mc4-test-19\n",
      "Invalid run name \"mC4-test-20\": Run names must be less than 56 characters and contain only lower-case letters, numbers, or \"-\". Converting to a valid name: mc4-test-20\n",
      "Invalid run name \"mC4-test-21\": Run names must be less than 56 characters and contain only lower-case letters, numbers, or \"-\". Converting to a valid name: mc4-test-21\n",
      "Invalid run name \"mC4-test-22\": Run names must be less than 56 characters and contain only lower-case letters, numbers, or \"-\". Converting to a valid name: mc4-test-22\n",
      "Invalid run name \"mC4-test-23\": Run names must be less than 56 characters and contain only lower-case letters, numbers, or \"-\". Converting to a valid name: mc4-test-23\n",
      "Invalid run name \"mC4-test-24\": Run names must be less than 56 characters and contain only lower-case letters, numbers, or \"-\". Converting to a valid name: mc4-test-24\n",
      "Invalid run name \"mC4-test-25\": Run names must be less than 56 characters and contain only lower-case letters, numbers, or \"-\". Converting to a valid name: mc4-test-25\n",
      "Invalid run name \"mC4-test-26\": Run names must be less than 56 characters and contain only lower-case letters, numbers, or \"-\". Converting to a valid name: mc4-test-26\n",
      "Invalid run name \"mC4-test-27\": Run names must be less than 56 characters and contain only lower-case letters, numbers, or \"-\". Converting to a valid name: mc4-test-27\n",
      "Invalid run name \"mC4-test-28\": Run names must be less than 56 characters and contain only lower-case letters, numbers, or \"-\". Converting to a valid name: mc4-test-28\n",
      "Invalid run name \"mC4-test-29\": Run names must be less than 56 characters and contain only lower-case letters, numbers, or \"-\". Converting to a valid name: mc4-test-29\n",
      "Invalid run name \"mC4-test-30\": Run names must be less than 56 characters and contain only lower-case letters, numbers, or \"-\". Converting to a valid name: mc4-test-30\n",
      "Invalid run name \"mC4-test-31\": Run names must be less than 56 characters and contain only lower-case letters, numbers, or \"-\". Converting to a valid name: mc4-test-31\n",
      "Invalid run name \"mC4-test-32\": Run names must be less than 56 characters and contain only lower-case letters, numbers, or \"-\". Converting to a valid name: mc4-test-32\n"
     ]
    }
   ],
   "source": [
    "\n",
    "\n",
    "for i in range(0, 15):\n",
    "    base_command = \"cd examples/examples/\\n\"\n",
    "    base_command += f\"python common/pretokenize_streaming_dataset.py --out_root oci://mosaicml-internal-dataset-mc4/mds/pretokenized/en/{i:03d}/ --local /tmp/mds-cache/{i:03d}/ --remote oci://mosaicml-internal-dataset-mc4/mds/en/{i:03d}/ --concat_tokens 2048 --tokenizer gpt2 --eos_text '<|endoftext|>' & \\n\"\n",
    "    base_config.command = base_command\n",
    "    name = f\"mC4-test-{i}\"\n",
    "    base_config.run_name = name\n",
    "    base_config.name = name\n",
    "#print(base_command)\n",
    "    create_run(run=base_config)\n",
    "\n",
    "for i in range(16, 33):\n",
    "    base_command = \"cd examples/examples/\\n\"\n",
    "    base_command += f\"python common/pretokenize_streaming_dataset.py --out_root oci://mosaicml-internal-dataset-mc4/mds/pretokenized/en/{i:03d}/ --local /tmp/mds-cache/{i:03d}/ --remote oci://mosaicml-internal-dataset-mc4/mds/en/{i:03d}/ --concat_tokens 2048 --tokenizer gpt2 --eos_text '<|endoftext|>' & \\n\"\n",
    "    base_config.command = base_command\n",
    "    name = f\"mC4-test-{i}\"\n",
    "    base_config.run_name = name\n",
    "    base_config.name = name\n",
    "#print(base_command)\n",
    "    create_run(run=base_config)\n",
    "\n"
   ]
  },
  {
   "cell_type": "code",
   "execution_count": 23,
   "metadata": {},
   "outputs": [],
   "source": []
  },
  {
   "cell_type": "code",
   "execution_count": 24,
   "metadata": {},
   "outputs": [
    {
     "name": "stderr",
     "output_type": "stream",
     "text": [
      "Invalid run name \"test_mC4\": Run names must be less than 56 characters and contain only lower-case letters, numbers, or \"-\". Converting to a valid name: test-mc4\n"
     ]
    },
    {
     "data": {
      "text/plain": [
       "Run(run_uid='857d129e-af79-4326-914e-09120b819acf', name='test-mc4-0oiOy7', status=<RunStatus.PENDING: 'PENDING'>, created_at=datetime.datetime(2023, 3, 28, 22, 51, 56, 127000, tzinfo=datetime.timezone.utc), updated_at=datetime.datetime(2023, 3, 28, 22, 51, 56, 127000, tzinfo=datetime.timezone.utc), config=FinalRunConfig(run_id='0fd3u3', name='test-mc4-0oiOy7', gpu_num=8, cpus=0, image='mosaicml/pytorch:1.13.1_cu117-python3.10-ubuntu20.04', integrations=[{'integration_type': 'git_repo', 'host': 'github.com', 'git_repo': 'codestar12/examples', 'ssh_clone': True, 'git_branch': 'streaming_concat', 'pip_install': '-e .[llm]', 'git_clone_recursive': False}], env_variables=[{'key': 'RUN_NAME', 'value': 'test-mc4-0oiOy7'}, {'key': 'COMPOSER_RUN_NAME', 'value': 'test-mc4-0oiOy7'}], parameters={}, gpu_type='a100_40gb', optimization_level=0, command='set -e; export GIT_SSH_COMMAND=${GIT_SSH_COMMAND:-\"ssh -o StrictHostKeyChecking=no\"} || ( echo Failed to set GIT_SSH_COMMAND to ignore host key checks && exit 1 );  git clone  -b streaming_concat git@github.com:codestar12/examples.git examples || ( echo Unable to clone git repo: codestar12/examples && exit 1 );  cd examples && pip install -e .[llm] && cd - || ( echo Unable to install the repo with: pip install -e .[llm] && exit 1 ); cd examples/examples/\\npython common/pretokenize_streaming_dataset.py --out_root oci://mosaicml-internal-dataset-mc4/mds/pretokenized/en/002/ --local /tmp/mds-cache/002/ --remote oci://mosaicml-internal-dataset-mc4/mds/en/002/ --concat_tokens 2048 --tokenizer gpt2 --eos_text \\'<|endoftext|>\\' & \\npython common/pretokenize_streaming_dataset.py --out_root oci://mosaicml-internal-dataset-mc4/mds/pretokenized/en/003/ --local /tmp/mds-cache/003/ --remote oci://mosaicml-internal-dataset-mc4/mds/en/003/ --concat_tokens 2048 --tokenizer gpt2 --eos_text \\'<|endoftext|>\\' & \\npython common/pretokenize_streaming_dataset.py --out_root oci://mosaicml-internal-dataset-mc4/mds/pretokenized/en/004/ --local /tmp/mds-cache/004/ --remote oci://mosaicml-internal-dataset-mc4/mds/en/004/ --concat_tokens 2048 --tokenizer gpt2 --eos_text \\'<|endoftext|>\\' & \\npython common/pretokenize_streaming_dataset.py --out_root oci://mosaicml-internal-dataset-mc4/mds/pretokenized/en/005/ --local /tmp/mds-cache/005/ --remote oci://mosaicml-internal-dataset-mc4/mds/en/005/ --concat_tokens 2048 --tokenizer gpt2 --eos_text \\'<|endoftext|>\\' & \\npython common/pretokenize_streaming_dataset.py --out_root oci://mosaicml-internal-dataset-mc4/mds/pretokenized/en/006/ --local /tmp/mds-cache/006/ --remote oci://mosaicml-internal-dataset-mc4/mds/en/006/ --concat_tokens 2048 --tokenizer gpt2 --eos_text \\'<|endoftext|>\\' & \\npython common/pretokenize_streaming_dataset.py --out_root oci://mosaicml-internal-dataset-mc4/mds/pretokenized/en/007/ --local /tmp/mds-cache/007/ --remote oci://mosaicml-internal-dataset-mc4/mds/en/007/ --concat_tokens 2048 --tokenizer gpt2 --eos_text \\'<|endoftext|>\\' & \\npython common/pretokenize_streaming_dataset.py --out_root oci://mosaicml-internal-dataset-mc4/mds/pretokenized/en/008/ --local /tmp/mds-cache/008/ --remote oci://mosaicml-internal-dataset-mc4/mds/en/008/ --concat_tokens 2048 --tokenizer gpt2 --eos_text \\'<|endoftext|>\\' & \\npython common/pretokenize_streaming_dataset.py --out_root oci://mosaicml-internal-dataset-mc4/mds/pretokenized/en/009/ --local /tmp/mds-cache/009/ --remote oci://mosaicml-internal-dataset-mc4/mds/en/009/ --concat_tokens 2048 --tokenizer gpt2 --eos_text \\'<|endoftext|>\\' & \\npython common/pretokenize_streaming_dataset.py --out_root oci://mosaicml-internal-dataset-mc4/mds/pretokenized/en/010/ --local /tmp/mds-cache/010/ --remote oci://mosaicml-internal-dataset-mc4/mds/en/010/ --concat_tokens 2048 --tokenizer gpt2 --eos_text \\'<|endoftext|>\\' & \\npython common/pretokenize_streaming_dataset.py --out_root oci://mosaicml-internal-dataset-mc4/mds/pretokenized/en/011/ --local /tmp/mds-cache/011/ --remote oci://mosaicml-internal-dataset-mc4/mds/en/011/ --concat_tokens 2048 --tokenizer gpt2 --eos_text \\'<|endoftext|>\\' & \\npython common/pretokenize_streaming_dataset.py --out_root oci://mosaicml-internal-dataset-mc4/mds/pretokenized/en/012/ --local /tmp/mds-cache/012/ --remote oci://mosaicml-internal-dataset-mc4/mds/en/012/ --concat_tokens 2048 --tokenizer gpt2 --eos_text \\'<|endoftext|>\\' & \\npython common/pretokenize_streaming_dataset.py --out_root oci://mosaicml-internal-dataset-mc4/mds/pretokenized/en/013/ --local /tmp/mds-cache/013/ --remote oci://mosaicml-internal-dataset-mc4/mds/en/013/ --concat_tokens 2048 --tokenizer gpt2 --eos_text \\'<|endoftext|>\\' & \\npython common/pretokenize_streaming_dataset.py --out_root oci://mosaicml-internal-dataset-mc4/mds/pretokenized/en/014/ --local /tmp/mds-cache/014/ --remote oci://mosaicml-internal-dataset-mc4/mds/en/014/ --concat_tokens 2048 --tokenizer gpt2 --eos_text \\'<|endoftext|>\\' & \\npython common/pretokenize_streaming_dataset.py --out_root oci://mosaicml-internal-dataset-mc4/mds/pretokenized/en/015/ --local /tmp/mds-cache/015/ --remote oci://mosaicml-internal-dataset-mc4/mds/en/015/ --concat_tokens 2048 --tokenizer gpt2 --eos_text \\'<|endoftext|>\\' & \\npython common/pretokenize_streaming_dataset.py --out_root oci://mosaicml-internal-dataset-mc4/mds/pretokenized/en/016/ --local /tmp/mds-cache/016/ --remote oci://mosaicml-internal-dataset-mc4/mds/en/016/ --concat_tokens 2048 --tokenizer gpt2 --eos_text \\'<|endoftext|>\\' & \\npython common/pretokenize_streaming_dataset.py --out_root oci://mosaicml-internal-dataset-mc4/mds/pretokenized/en/017/ --local /tmp/mds-cache/017/ --remote oci://mosaicml-internal-dataset-mc4/mds/en/017/ --concat_tokens 2048 --tokenizer gpt2 --eos_text \\'<|endoftext|>\\' & \\npython common/pretokenize_streaming_dataset.py --out_root oci://mosaicml-internal-dataset-mc4/mds/pretokenized/en/018/ --local /tmp/mds-cache/018/ --remote oci://mosaicml-internal-dataset-mc4/mds/en/018/ --concat_tokens 2048 --tokenizer gpt2 --eos_text \\'<|endoftext|>\\' & \\npython common/pretokenize_streaming_dataset.py --out_root oci://mosaicml-internal-dataset-mc4/mds/pretokenized/en/019/ --local /tmp/mds-cache/019/ --remote oci://mosaicml-internal-dataset-mc4/mds/en/019/ --concat_tokens 2048 --tokenizer gpt2 --eos_text \\'<|endoftext|>\\' & \\npython common/pretokenize_streaming_dataset.py --out_root oci://mosaicml-internal-dataset-mc4/mds/pretokenized/en/020/ --local /tmp/mds-cache/020/ --remote oci://mosaicml-internal-dataset-mc4/mds/en/020/ --concat_tokens 2048 --tokenizer gpt2 --eos_text \\'<|endoftext|>\\' & \\npython common/pretokenize_streaming_dataset.py --out_root oci://mosaicml-internal-dataset-mc4/mds/pretokenized/en/021/ --local /tmp/mds-cache/021/ --remote oci://mosaicml-internal-dataset-mc4/mds/en/021/ --concat_tokens 2048 --tokenizer gpt2 --eos_text \\'<|endoftext|>\\' & \\npython common/pretokenize_streaming_dataset.py --out_root oci://mosaicml-internal-dataset-mc4/mds/pretokenized/en/022/ --local /tmp/mds-cache/022/ --remote oci://mosaicml-internal-dataset-mc4/mds/en/022/ --concat_tokens 2048 --tokenizer gpt2 --eos_text \\'<|endoftext|>\\' & \\npython common/pretokenize_streaming_dataset.py --out_root oci://mosaicml-internal-dataset-mc4/mds/pretokenized/en/023/ --local /tmp/mds-cache/023/ --remote oci://mosaicml-internal-dataset-mc4/mds/en/023/ --concat_tokens 2048 --tokenizer gpt2 --eos_text \\'<|endoftext|>\\' & \\npython common/pretokenize_streaming_dataset.py --out_root oci://mosaicml-internal-dataset-mc4/mds/pretokenized/en/024/ --local /tmp/mds-cache/024/ --remote oci://mosaicml-internal-dataset-mc4/mds/en/024/ --concat_tokens 2048 --tokenizer gpt2 --eos_text \\'<|endoftext|>\\' & \\npython common/pretokenize_streaming_dataset.py --out_root oci://mosaicml-internal-dataset-mc4/mds/pretokenized/en/025/ --local /tmp/mds-cache/025/ --remote oci://mosaicml-internal-dataset-mc4/mds/en/025/ --concat_tokens 2048 --tokenizer gpt2 --eos_text \\'<|endoftext|>\\' & \\npython common/pretokenize_streaming_dataset.py --out_root oci://mosaicml-internal-dataset-mc4/mds/pretokenized/en/026/ --local /tmp/mds-cache/026/ --remote oci://mosaicml-internal-dataset-mc4/mds/en/026/ --concat_tokens 2048 --tokenizer gpt2 --eos_text \\'<|endoftext|>\\' & \\npython common/pretokenize_streaming_dataset.py --out_root oci://mosaicml-internal-dataset-mc4/mds/pretokenized/en/027/ --local /tmp/mds-cache/027/ --remote oci://mosaicml-internal-dataset-mc4/mds/en/027/ --concat_tokens 2048 --tokenizer gpt2 --eos_text \\'<|endoftext|>\\' & \\npython common/pretokenize_streaming_dataset.py --out_root oci://mosaicml-internal-dataset-mc4/mds/pretokenized/en/028/ --local /tmp/mds-cache/028/ --remote oci://mosaicml-internal-dataset-mc4/mds/en/028/ --concat_tokens 2048 --tokenizer gpt2 --eos_text \\'<|endoftext|>\\' & \\npython common/pretokenize_streaming_dataset.py --out_root oci://mosaicml-internal-dataset-mc4/mds/pretokenized/en/029/ --local /tmp/mds-cache/029/ --remote oci://mosaicml-internal-dataset-mc4/mds/en/029/ --concat_tokens 2048 --tokenizer gpt2 --eos_text \\'<|endoftext|>\\' & \\npython common/pretokenize_streaming_dataset.py --out_root oci://mosaicml-internal-dataset-mc4/mds/pretokenized/en/030/ --local /tmp/mds-cache/030/ --remote oci://mosaicml-internal-dataset-mc4/mds/en/030/ --concat_tokens 2048 --tokenizer gpt2 --eos_text \\'<|endoftext|>\\' & \\npython common/pretokenize_streaming_dataset.py --out_root oci://mosaicml-internal-dataset-mc4/mds/pretokenized/en/031/ --local /tmp/mds-cache/031/ --remote oci://mosaicml-internal-dataset-mc4/mds/en/031/ --concat_tokens 2048 --tokenizer gpt2 --eos_text \\'<|endoftext|>\\' & \\n', entrypoint='', cluster='r12z1', platform='', partitions=None, scheduling={'priority': 'DEFAULT'}), started_at=None, completed_at=None, reason=None, submitted_config=RunConfig(run_name=None, name='test-mc4', gpu_type=None, gpu_num=8, cpus=0, platform=None, cluster='r12z1', image='mosaicml/pytorch:1.13.1_cu117-python3.10-ubuntu20.04', partitions=None, optimization_level=0, integrations=[{'integration_type': 'git_repo', 'git_repo': 'codestar12/examples', 'git_branch': 'streaming_concat', 'pip_install': '-e .[llm]'}], env_variables=[], scheduling={'priority': None}, command=\"cd examples/examples/\\npython common/pretokenize_streaming_dataset.py --out_root oci://mosaicml-internal-dataset-mc4/mds/pretokenized/en/002/ --local /tmp/mds-cache/002/ --remote oci://mosaicml-internal-dataset-mc4/mds/en/002/ --concat_tokens 2048 --tokenizer gpt2 --eos_text '<|endoftext|>' & \\npython common/pretokenize_streaming_dataset.py --out_root oci://mosaicml-internal-dataset-mc4/mds/pretokenized/en/003/ --local /tmp/mds-cache/003/ --remote oci://mosaicml-internal-dataset-mc4/mds/en/003/ --concat_tokens 2048 --tokenizer gpt2 --eos_text '<|endoftext|>' & \\npython common/pretokenize_streaming_dataset.py --out_root oci://mosaicml-internal-dataset-mc4/mds/pretokenized/en/004/ --local /tmp/mds-cache/004/ --remote oci://mosaicml-internal-dataset-mc4/mds/en/004/ --concat_tokens 2048 --tokenizer gpt2 --eos_text '<|endoftext|>' & \\npython common/pretokenize_streaming_dataset.py --out_root oci://mosaicml-internal-dataset-mc4/mds/pretokenized/en/005/ --local /tmp/mds-cache/005/ --remote oci://mosaicml-internal-dataset-mc4/mds/en/005/ --concat_tokens 2048 --tokenizer gpt2 --eos_text '<|endoftext|>' & \\npython common/pretokenize_streaming_dataset.py --out_root oci://mosaicml-internal-dataset-mc4/mds/pretokenized/en/006/ --local /tmp/mds-cache/006/ --remote oci://mosaicml-internal-dataset-mc4/mds/en/006/ --concat_tokens 2048 --tokenizer gpt2 --eos_text '<|endoftext|>' & \\npython common/pretokenize_streaming_dataset.py --out_root oci://mosaicml-internal-dataset-mc4/mds/pretokenized/en/007/ --local /tmp/mds-cache/007/ --remote oci://mosaicml-internal-dataset-mc4/mds/en/007/ --concat_tokens 2048 --tokenizer gpt2 --eos_text '<|endoftext|>' & \\npython common/pretokenize_streaming_dataset.py --out_root oci://mosaicml-internal-dataset-mc4/mds/pretokenized/en/008/ --local /tmp/mds-cache/008/ --remote oci://mosaicml-internal-dataset-mc4/mds/en/008/ --concat_tokens 2048 --tokenizer gpt2 --eos_text '<|endoftext|>' & \\npython common/pretokenize_streaming_dataset.py --out_root oci://mosaicml-internal-dataset-mc4/mds/pretokenized/en/009/ --local /tmp/mds-cache/009/ --remote oci://mosaicml-internal-dataset-mc4/mds/en/009/ --concat_tokens 2048 --tokenizer gpt2 --eos_text '<|endoftext|>' & \\npython common/pretokenize_streaming_dataset.py --out_root oci://mosaicml-internal-dataset-mc4/mds/pretokenized/en/010/ --local /tmp/mds-cache/010/ --remote oci://mosaicml-internal-dataset-mc4/mds/en/010/ --concat_tokens 2048 --tokenizer gpt2 --eos_text '<|endoftext|>' & \\npython common/pretokenize_streaming_dataset.py --out_root oci://mosaicml-internal-dataset-mc4/mds/pretokenized/en/011/ --local /tmp/mds-cache/011/ --remote oci://mosaicml-internal-dataset-mc4/mds/en/011/ --concat_tokens 2048 --tokenizer gpt2 --eos_text '<|endoftext|>' & \\npython common/pretokenize_streaming_dataset.py --out_root oci://mosaicml-internal-dataset-mc4/mds/pretokenized/en/012/ --local /tmp/mds-cache/012/ --remote oci://mosaicml-internal-dataset-mc4/mds/en/012/ --concat_tokens 2048 --tokenizer gpt2 --eos_text '<|endoftext|>' & \\npython common/pretokenize_streaming_dataset.py --out_root oci://mosaicml-internal-dataset-mc4/mds/pretokenized/en/013/ --local /tmp/mds-cache/013/ --remote oci://mosaicml-internal-dataset-mc4/mds/en/013/ --concat_tokens 2048 --tokenizer gpt2 --eos_text '<|endoftext|>' & \\npython common/pretokenize_streaming_dataset.py --out_root oci://mosaicml-internal-dataset-mc4/mds/pretokenized/en/014/ --local /tmp/mds-cache/014/ --remote oci://mosaicml-internal-dataset-mc4/mds/en/014/ --concat_tokens 2048 --tokenizer gpt2 --eos_text '<|endoftext|>' & \\npython common/pretokenize_streaming_dataset.py --out_root oci://mosaicml-internal-dataset-mc4/mds/pretokenized/en/015/ --local /tmp/mds-cache/015/ --remote oci://mosaicml-internal-dataset-mc4/mds/en/015/ --concat_tokens 2048 --tokenizer gpt2 --eos_text '<|endoftext|>' & \\npython common/pretokenize_streaming_dataset.py --out_root oci://mosaicml-internal-dataset-mc4/mds/pretokenized/en/016/ --local /tmp/mds-cache/016/ --remote oci://mosaicml-internal-dataset-mc4/mds/en/016/ --concat_tokens 2048 --tokenizer gpt2 --eos_text '<|endoftext|>' & \\npython common/pretokenize_streaming_dataset.py --out_root oci://mosaicml-internal-dataset-mc4/mds/pretokenized/en/017/ --local /tmp/mds-cache/017/ --remote oci://mosaicml-internal-dataset-mc4/mds/en/017/ --concat_tokens 2048 --tokenizer gpt2 --eos_text '<|endoftext|>' & \\npython common/pretokenize_streaming_dataset.py --out_root oci://mosaicml-internal-dataset-mc4/mds/pretokenized/en/018/ --local /tmp/mds-cache/018/ --remote oci://mosaicml-internal-dataset-mc4/mds/en/018/ --concat_tokens 2048 --tokenizer gpt2 --eos_text '<|endoftext|>' & \\npython common/pretokenize_streaming_dataset.py --out_root oci://mosaicml-internal-dataset-mc4/mds/pretokenized/en/019/ --local /tmp/mds-cache/019/ --remote oci://mosaicml-internal-dataset-mc4/mds/en/019/ --concat_tokens 2048 --tokenizer gpt2 --eos_text '<|endoftext|>' & \\npython common/pretokenize_streaming_dataset.py --out_root oci://mosaicml-internal-dataset-mc4/mds/pretokenized/en/020/ --local /tmp/mds-cache/020/ --remote oci://mosaicml-internal-dataset-mc4/mds/en/020/ --concat_tokens 2048 --tokenizer gpt2 --eos_text '<|endoftext|>' & \\npython common/pretokenize_streaming_dataset.py --out_root oci://mosaicml-internal-dataset-mc4/mds/pretokenized/en/021/ --local /tmp/mds-cache/021/ --remote oci://mosaicml-internal-dataset-mc4/mds/en/021/ --concat_tokens 2048 --tokenizer gpt2 --eos_text '<|endoftext|>' & \\npython common/pretokenize_streaming_dataset.py --out_root oci://mosaicml-internal-dataset-mc4/mds/pretokenized/en/022/ --local /tmp/mds-cache/022/ --remote oci://mosaicml-internal-dataset-mc4/mds/en/022/ --concat_tokens 2048 --tokenizer gpt2 --eos_text '<|endoftext|>' & \\npython common/pretokenize_streaming_dataset.py --out_root oci://mosaicml-internal-dataset-mc4/mds/pretokenized/en/023/ --local /tmp/mds-cache/023/ --remote oci://mosaicml-internal-dataset-mc4/mds/en/023/ --concat_tokens 2048 --tokenizer gpt2 --eos_text '<|endoftext|>' & \\npython common/pretokenize_streaming_dataset.py --out_root oci://mosaicml-internal-dataset-mc4/mds/pretokenized/en/024/ --local /tmp/mds-cache/024/ --remote oci://mosaicml-internal-dataset-mc4/mds/en/024/ --concat_tokens 2048 --tokenizer gpt2 --eos_text '<|endoftext|>' & \\npython common/pretokenize_streaming_dataset.py --out_root oci://mosaicml-internal-dataset-mc4/mds/pretokenized/en/025/ --local /tmp/mds-cache/025/ --remote oci://mosaicml-internal-dataset-mc4/mds/en/025/ --concat_tokens 2048 --tokenizer gpt2 --eos_text '<|endoftext|>' & \\npython common/pretokenize_streaming_dataset.py --out_root oci://mosaicml-internal-dataset-mc4/mds/pretokenized/en/026/ --local /tmp/mds-cache/026/ --remote oci://mosaicml-internal-dataset-mc4/mds/en/026/ --concat_tokens 2048 --tokenizer gpt2 --eos_text '<|endoftext|>' & \\npython common/pretokenize_streaming_dataset.py --out_root oci://mosaicml-internal-dataset-mc4/mds/pretokenized/en/027/ --local /tmp/mds-cache/027/ --remote oci://mosaicml-internal-dataset-mc4/mds/en/027/ --concat_tokens 2048 --tokenizer gpt2 --eos_text '<|endoftext|>' & \\npython common/pretokenize_streaming_dataset.py --out_root oci://mosaicml-internal-dataset-mc4/mds/pretokenized/en/028/ --local /tmp/mds-cache/028/ --remote oci://mosaicml-internal-dataset-mc4/mds/en/028/ --concat_tokens 2048 --tokenizer gpt2 --eos_text '<|endoftext|>' & \\npython common/pretokenize_streaming_dataset.py --out_root oci://mosaicml-internal-dataset-mc4/mds/pretokenized/en/029/ --local /tmp/mds-cache/029/ --remote oci://mosaicml-internal-dataset-mc4/mds/en/029/ --concat_tokens 2048 --tokenizer gpt2 --eos_text '<|endoftext|>' & \\npython common/pretokenize_streaming_dataset.py --out_root oci://mosaicml-internal-dataset-mc4/mds/pretokenized/en/030/ --local /tmp/mds-cache/030/ --remote oci://mosaicml-internal-dataset-mc4/mds/en/030/ --concat_tokens 2048 --tokenizer gpt2 --eos_text '<|endoftext|>' & \\npython common/pretokenize_streaming_dataset.py --out_root oci://mosaicml-internal-dataset-mc4/mds/pretokenized/en/031/ --local /tmp/mds-cache/031/ --remote oci://mosaicml-internal-dataset-mc4/mds/en/031/ --concat_tokens 2048 --tokenizer gpt2 --eos_text '<|endoftext|>' & \\n\", parameters={}, entrypoint=''), _required_properties=('id', 'name', 'status', 'createdAt', 'updatedAt', 'runInput', 'originalRunInput'), _type=None)"
      ]
     },
     "execution_count": 24,
     "metadata": {},
     "output_type": "execute_result"
    }
   ],
   "source": []
  },
  {
   "cell_type": "code",
   "execution_count": null,
   "metadata": {},
   "outputs": [],
   "source": []
  }
 ],
 "metadata": {
  "kernelspec": {
   "display_name": "base",
   "language": "python",
   "name": "python3"
  },
  "language_info": {
   "codemirror_mode": {
    "name": "ipython",
    "version": 3
   },
   "file_extension": ".py",
   "mimetype": "text/x-python",
   "name": "python",
   "nbconvert_exporter": "python",
   "pygments_lexer": "ipython3",
   "version": "3.9.12"
  },
  "orig_nbformat": 4
 },
 "nbformat": 4,
 "nbformat_minor": 2
}
